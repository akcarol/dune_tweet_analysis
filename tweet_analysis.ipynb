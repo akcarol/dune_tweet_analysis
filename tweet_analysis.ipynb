{
 "cells": [
  {
   "cell_type": "code",
   "execution_count": 1,
   "metadata": {},
   "outputs": [],
   "source": [
    "import nltk\n",
    "from nltk import sent_tokenize, word_tokenize\n",
    "from nltk.stem.snowball import SnowballStemmer\n",
    "from nltk.stem.wordnet import WordNetLemmatizer\n",
    "from nltk.probability import FreqDist\n",
    "from nltk.corpus import stopwords\n",
    "import pandas as pd\n",
    "import numpy as np\n",
    "import re  \n",
    "import spacy\n",
    "import matplotlib.pyplot as plt; plt.rcdefaults()\n",
    "import matplotlib.pyplot as plt\n",
    "import seaborn as sns\n",
    "\n",
    "# nltk.download('punkt')\n",
    "# nltk.download('wordnet')\n",
    "nlp = spacy.load('en_core_web_lg')"
   ]
  },
  {
   "cell_type": "code",
   "execution_count": 2,
   "metadata": {},
   "outputs": [],
   "source": [
    "tweets = pd.read_csv(\"./data/dune_scrape_5000.csv\")"
   ]
  },
  {
   "cell_type": "code",
   "execution_count": 3,
   "metadata": {},
   "outputs": [
    {
     "data": {
      "text/html": [
       "<div>\n",
       "<style scoped>\n",
       "    .dataframe tbody tr th:only-of-type {\n",
       "        vertical-align: middle;\n",
       "    }\n",
       "\n",
       "    .dataframe tbody tr th {\n",
       "        vertical-align: top;\n",
       "    }\n",
       "\n",
       "    .dataframe thead th {\n",
       "        text-align: right;\n",
       "    }\n",
       "</style>\n",
       "<table border=\"1\" class=\"dataframe\">\n",
       "  <thead>\n",
       "    <tr style=\"text-align: right;\">\n",
       "      <th></th>\n",
       "      <th>User</th>\n",
       "      <th>Handle</th>\n",
       "      <th>PostDate</th>\n",
       "      <th>TweetText</th>\n",
       "      <th>ReplyCount</th>\n",
       "      <th>RetweetCount</th>\n",
       "      <th>LikeCount</th>\n",
       "    </tr>\n",
       "  </thead>\n",
       "  <tbody>\n",
       "    <tr>\n",
       "      <th>0</th>\n",
       "      <td>Jess Dweck</td>\n",
       "      <td>@TheDweck</td>\n",
       "      <td>2021-11-03T19:23:53.000Z</td>\n",
       "      <td>Doing the Dune voice to get my wi-fi to work</td>\n",
       "      <td>12</td>\n",
       "      <td>26</td>\n",
       "      <td>374</td>\n",
       "    </tr>\n",
       "    <tr>\n",
       "      <th>1</th>\n",
       "      <td>macaroni and sleaze</td>\n",
       "      <td>@Jenny_Trout</td>\n",
       "      <td>2021-11-03T18:47:23.000Z</td>\n",
       "      <td>no matter how you feel about dune, i think we ...</td>\n",
       "      <td>2</td>\n",
       "      <td>27</td>\n",
       "      <td>132</td>\n",
       "    </tr>\n",
       "    <tr>\n",
       "      <th>2</th>\n",
       "      <td>Matthew Yglesias</td>\n",
       "      <td>@mattyglesias</td>\n",
       "      <td>2021-11-03T17:55:55.000Z</td>\n",
       "      <td>Lots of Virginia Discourse on here but I'm pla...</td>\n",
       "      <td>10</td>\n",
       "      <td>3</td>\n",
       "      <td>185</td>\n",
       "    </tr>\n",
       "    <tr>\n",
       "      <th>3</th>\n",
       "      <td>Bandicoot</td>\n",
       "      <td>@crack_bandicoot</td>\n",
       "      <td>2021-11-03T17:51:58.000Z</td>\n",
       "      <td>Just came back from watching Dune at an IMAX a...</td>\n",
       "      <td>13</td>\n",
       "      <td>11</td>\n",
       "      <td>123</td>\n",
       "    </tr>\n",
       "    <tr>\n",
       "      <th>4</th>\n",
       "      <td>Brian Lynch</td>\n",
       "      <td>@BrianLynch</td>\n",
       "      <td>2021-11-03T17:39:23.000Z</td>\n",
       "      <td>Saw DUNE with JFK Jr. yesterday.  We dug it.  ...</td>\n",
       "      <td>3</td>\n",
       "      <td>2</td>\n",
       "      <td>107</td>\n",
       "    </tr>\n",
       "  </tbody>\n",
       "</table>\n",
       "</div>"
      ],
      "text/plain": [
       "                  User            Handle                  PostDate  \\\n",
       "0           Jess Dweck         @TheDweck  2021-11-03T19:23:53.000Z   \n",
       "1  macaroni and sleaze      @Jenny_Trout  2021-11-03T18:47:23.000Z   \n",
       "2     Matthew Yglesias     @mattyglesias  2021-11-03T17:55:55.000Z   \n",
       "3            Bandicoot  @crack_bandicoot  2021-11-03T17:51:58.000Z   \n",
       "4          Brian Lynch       @BrianLynch  2021-11-03T17:39:23.000Z   \n",
       "\n",
       "                                           TweetText ReplyCount RetweetCount  \\\n",
       "0       Doing the Dune voice to get my wi-fi to work         12           26   \n",
       "1  no matter how you feel about dune, i think we ...          2           27   \n",
       "2  Lots of Virginia Discourse on here but I'm pla...         10            3   \n",
       "3  Just came back from watching Dune at an IMAX a...         13           11   \n",
       "4  Saw DUNE with JFK Jr. yesterday.  We dug it.  ...          3            2   \n",
       "\n",
       "  LikeCount  \n",
       "0       374  \n",
       "1       132  \n",
       "2       185  \n",
       "3       123  \n",
       "4       107  "
      ]
     },
     "execution_count": 3,
     "metadata": {},
     "output_type": "execute_result"
    }
   ],
   "source": [
    "tweets.head()"
   ]
  },
  {
   "cell_type": "code",
   "execution_count": 4,
   "metadata": {},
   "outputs": [],
   "source": [
    "all_sentences = []\n",
    "for tweet in tweets['TweetText']:\n",
    "    all_sentences.append(tweet)\n",
    "#all_sentences\n",
    "\n",
    "lines = list()\n",
    "for line in all_sentences:    \n",
    "    words = line.split()\n",
    "    for w in words: \n",
    "       lines.append(w)\n",
    "\n",
    "\n",
    "#print(lines)"
   ]
  },
  {
   "cell_type": "code",
   "execution_count": 5,
   "metadata": {},
   "outputs": [],
   "source": [
    "lines2 = []\n",
    "lines2 = [re.sub(r'[^A-Za-z0-9]+', '', x) for x in lines]\n",
    "\n",
    "\n",
    "for word in lines:\n",
    "    if word != '':\n",
    "        lines2.append(word)\n"
   ]
  },
  {
   "cell_type": "code",
   "execution_count": 6,
   "metadata": {},
   "outputs": [],
   "source": [
    "#This is stemming the words to their root\n",
    "# The Snowball Stemmer requires that you pass a language parameter\n",
    "\n",
    "s_stemmer = SnowballStemmer(language='english')\n",
    "\n",
    "stem = []\n",
    "for word in lines2:\n",
    "    stem.append(s_stemmer.stem(word))\n",
    "\n"
   ]
  },
  {
   "cell_type": "code",
   "execution_count": 7,
   "metadata": {},
   "outputs": [],
   "source": [
    "\n",
    "stem2 = []\n",
    "\n",
    "for word in stem:\n",
    "    if word not in nlp.Defaults.stop_words and re.search(r'[A-Za-z0-9]+', word):\n",
    "        stem2.append(word)\n"
   ]
  },
  {
   "cell_type": "code",
   "execution_count": 8,
   "metadata": {},
   "outputs": [
    {
     "name": "stdout",
     "output_type": "stream",
     "text": [
      "like                 875\n",
      "movi                 828\n",
      "watch                679\n",
      "peopl                420\n",
      "time                 419\n",
      "read                 416\n",
      "film                 403\n",
      "im                   364\n",
      "think                348\n",
      "book                 346\n",
      "love                 318\n",
      "i'm                  316\n",
      "new                  302\n",
      "sand                 292\n",
      "look                 291\n",
      "villeneuv            289\n",
      "realli               283\n",
      "2                    278\n",
      "year                 261\n",
      "good                 255\n",
      "becaus               251\n",
      "dune.                249\n",
      "know                 247\n",
      "want                 246\n",
      "onli                 242\n",
      "star                 230\n",
      "thing                229\n",
      "trailer              229\n",
      "deni                 215\n",
      "come                 193\n",
      "                    ... \n",
      "turn.”                 1\n",
      "\"dune:                 1\n",
      "mvp).                  1\n",
      "#insulatebritian       1\n",
      "[the                   1\n",
      "“patriarchy?           1\n",
      "endgame,               1\n",
      "29,                    1\n",
      "“tran                  1\n",
      "embarrassingly-aw      1\n",
      "could….dun             1\n",
      "feet...                1\n",
      "6-foot                 1\n",
      "someday                1\n",
      "$15.5                  1\n",
      "this???                1\n",
      "designappear           1\n",
      "“s”                    1\n",
      "lol\"                   1\n",
      "\"pumpkin\"              1\n",
      "noise,                 1\n",
      "\"sleep                 1\n",
      "#singapor              1\n",
      "\"listen,               1\n",
      "necessary.             1\n",
      "repost]                1\n",
      "anniversary:           1\n",
      "22000                  1\n",
      "[dramat                1\n",
      "looks/sound            1\n",
      "Name: 0, Length: 12599, dtype: int64\n"
     ]
    }
   ],
   "source": [
    "tweet_words = pd.DataFrame(stem2)\n",
    "tweet_words = tweet_words[0].value_counts()\n",
    "del tweet_words['dune']\n"
   ]
  },
  {
   "cell_type": "code",
   "execution_count": 9,
   "metadata": {},
   "outputs": [
    {
     "data": {
      "image/png": "[encoded data removed]",
      "text/plain": [
       "<Figure size 720x360 with 1 Axes>"
      ]
     },
     "metadata": {
      "needs_background": "light"
     },
     "output_type": "display_data"
    }
   ],
   "source": [
    "\n",
    "tweet_words = tweet_words[:25,]\n",
    "plt.figure(figsize=(10,5))\n",
    "sns.barplot(tweet_words.values, tweet_words.index, alpha=0.8)\n",
    "plt.title('Top Words')\n",
    "plt.ylabel('Word', fontsize=12)\n",
    "plt.xlabel('Count', fontsize=12)\n",
    "plt.show()"
   ]
  },
  {
   "cell_type": "code",
   "execution_count": 10,
   "metadata": {},
   "outputs": [],
   "source": [
    "str1 = \" \" \n",
    "stem2 = str1.join(lines2)\n",
    "\n",
    "stem2 = nlp(stem2)\n",
    "\n",
    "label = [(X.text, X.label_) for X in stem2.ents]\n",
    "\n",
    "df10 = pd.DataFrame(label, columns = ['Word','Entity'])\n",
    "\n",
    "df10 = df10.where(df10['Entity'] == 'PERSON')\n",
    "\n",
    "df11 = df10['Word'].value_counts()\n",
    "\n",
    "del df11['┃']"
   ]
  },
  {
   "cell_type": "code",
   "execution_count": 11,
   "metadata": {},
   "outputs": [
    {
     "data": {
      "image/png": "[encoded data removed]",
      "text/plain": [
       "<Figure size 720x360 with 1 Axes>"
      ]
     },
     "metadata": {
      "needs_background": "light"
     },
     "output_type": "display_data"
    }
   ],
   "source": [
    "\n",
    "df = df11[:20,]\n",
    "plt.figure(figsize=(10,5))\n",
    "sns.barplot(df.values, df.index, alpha=0.8)\n",
    "plt.title('Top People Mentioned')\n",
    "plt.ylabel('Word from Tweet', fontsize=12)\n",
    "plt.xlabel('Count of Words', fontsize=12)\n",
    "plt.show()\n"
   ]
  }
 ],
 "metadata": {
  "kernelspec": {
   "display_name": "Python 3",
   "language": "python",
   "name": "python3"
  },
  "language_info": {
   "codemirror_mode": {
    "name": "ipython",
    "version": 3
   },
   "file_extension": ".py",
   "mimetype": "text/x-python",
   "name": "python",
   "nbconvert_exporter": "python",
   "pygments_lexer": "ipython3",
   "version": "3.7.3"
  }
 },
 "nbformat": 4,
 "nbformat_minor": 2
}
